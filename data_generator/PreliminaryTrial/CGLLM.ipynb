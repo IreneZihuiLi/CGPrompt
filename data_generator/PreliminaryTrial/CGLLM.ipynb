{
  "nbformat": 4,
  "nbformat_minor": 0,
  "metadata": {
    "colab": {
      "provenance": []
    },
    "kernelspec": {
      "name": "python3",
      "display_name": "Python 3"
    },
    "language_info": {
      "name": "python"
    }
  },
  "cells": [
    {
      "cell_type": "code",
      "execution_count": null,
      "metadata": {
        "id": "Hk7LWOJjn0Uh"
      },
      "outputs": [],
      "source": [
        "!pip install neo4j langchain langchain_openai -q"
      ]
    },
    {
      "cell_type": "code",
      "source": [
        "from google.colab import drive\n",
        "drive.mount(\"/content/drive\")"
      ],
      "metadata": {
        "colab": {
          "base_uri": "https://localhost:8080/"
        },
        "id": "UFo2V2ag14hG",
        "outputId": "84f7ad10-3334-4a4e-ec93-b93b9edc97fe"
      },
      "execution_count": null,
      "outputs": [
        {
          "output_type": "stream",
          "name": "stdout",
          "text": [
            "Mounted at /content/drive\n"
          ]
        }
      ]
    },
    {
      "cell_type": "code",
      "source": [
        "import re\n",
        "import csv\n",
        "import pandas as pd\n",
        "from tqdm import tqdm\n",
        "from langchain.chains import GraphCypherQAChain\n",
        "from langchain_community.graphs import Neo4jGraph\n",
        "from langchain.chat_models import ChatOpenAI"
      ],
      "metadata": {
        "id": "ZJ9vsW2aoQYl"
      },
      "execution_count": null,
      "outputs": []
    },
    {
      "cell_type": "code",
      "source": [
        "graph = Neo4jGraph(\n",
        "    url=\"neo4j+s://.databases.neo4j.io\",\n",
        "    username=\"neo4j\",\n",
        "    password=\"\"\n",
        "    )"
      ],
      "metadata": {
        "id": "DO0V711bv_Xn"
      },
      "execution_count": null,
      "outputs": []
    },
    {
      "cell_type": "code",
      "source": [
        "graph.refresh_schema()\n",
        "print(graph.schema)"
      ],
      "metadata": {
        "colab": {
          "base_uri": "https://localhost:8080/"
        },
        "id": "kuhvXBtWoTsR",
        "outputId": "00072982-7e07-4ce3-f91d-c108dcf356ac"
      },
      "execution_count": null,
      "outputs": [
        {
          "output_type": "stream",
          "name": "stdout",
          "text": [
            "Node properties are the following:\n",
            "Concept {concept_id: INTEGER, concept_name: STRING}\n",
            "Relationship properties are the following:\n",
            "\n",
            "The relationships are the following:\n",
            "(:Concept)-[:PREREQUISITE]->(:Concept)\n"
          ]
        }
      ]
    },
    {
      "cell_type": "code",
      "source": [
        "import os\n",
        "os.environ[\"OPENAI_API_KEY\"] = \"sk-\""
      ],
      "metadata": {
        "id": "lvZ9wfTmoKhh"
      },
      "execution_count": null,
      "outputs": []
    },
    {
      "cell_type": "code",
      "source": [
        "chain = GraphCypherQAChain.from_llm(\n",
        "    ChatOpenAI(temperature=0, model= \"gpt-4-1106-preview\"),\n",
        "    graph=graph,\n",
        "    verbose=True,\n",
        "    return_direct=True,\n",
        "    top_k=20,\n",
        ")"
      ],
      "metadata": {
        "id": "yESM0OqWoNKb"
      },
      "execution_count": null,
      "outputs": []
    },
    {
      "cell_type": "code",
      "source": [
        "llm = ChatOpenAI(model_name=\"gpt-4-1106-preview\",\n",
        "                 temperature=0,\n",
        "                 openai_api_key=\"sk-\")"
      ],
      "metadata": {
        "id": "jGKD5cKXXCMS"
      },
      "execution_count": null,
      "outputs": []
    },
    {
      "cell_type": "markdown",
      "source": [
        "***Task I***"
      ],
      "metadata": {
        "id": "rPh1lhNeh6ZN"
      }
    },
    {
      "cell_type": "code",
      "source": [
        "file_path = \"T1_binary.tsv\"\n",
        "\n",
        "concepts_1 = []\n",
        "concepts_2 = []\n",
        "\n",
        "pattern_1 = r\"learned about\\s(.*?),\"\n",
        "pattern_2 = r\"learn about\\s([^?']*?)\\?\"\n",
        "\n",
        "with open(file_path, \"r\", encoding='utf-8') as file:\n",
        "    reader = csv.reader(file, delimiter=\"\\t\")\n",
        "\n",
        "    for row in reader:\n",
        "        sentence = row[0]\n",
        "\n",
        "        match_1 = re.search(pattern_1, sentence)\n",
        "        match_2 = re.search(pattern_2, sentence)\n",
        "\n",
        "        if match_1 and match_2:\n",
        "            concept_1 = match_1.group(1)\n",
        "            concept_2 = match_2.group(1)\n",
        "            concepts_1.append(concept_1)\n",
        "            concepts_2.append(concept_2)"
      ],
      "metadata": {
        "id": "_RjWabhvh6H-"
      },
      "execution_count": null,
      "outputs": []
    },
    {
      "cell_type": "code",
      "source": [
        "binary_prompt = \"\"\"\n",
        "In the domain of natural language processing, I have already learned about \"{concept_1}\", based on this, does it help for me to learn about \"{concept_2}\"?\n",
        "Retuen the path.\n",
        "\"\"\""
      ],
      "metadata": {
        "id": "NFz0cATJjKfF"
      },
      "execution_count": null,
      "outputs": []
    },
    {
      "cell_type": "code",
      "source": [
        "paths = []\n",
        "for i in tqdm(range(100)):\n",
        "    prompt = binary_prompt.format(concept_1=concepts_1[i], concept_2=concepts_2[i])\n",
        "    try:\n",
        "        result = chain.run(prompt)\n",
        "    except Exception as e:\n",
        "        print(f\"Error processing concept pair {concepts_1[i]}, {concepts_2[i]}: {e}\")\n",
        "        result = []\n",
        "    paths.append(result)"
      ],
      "metadata": {
        "id": "zG_Hu2fGlIBj"
      },
      "execution_count": null,
      "outputs": []
    },
    {
      "cell_type": "code",
      "source": [
        "task_I_prompt = \"\"\"\n",
        "There is a knowledge graph that includes the relationships between concepts.\n",
        "Based on the question, the path between concepts has been returned.\n",
        "If the path is empty, then there is no relationship.\n",
        "Only use the returned path as the information for answering.\n",
        "Only return \"Yes\" or \"No\".\n",
        "\n",
        "**Question**:\n",
        "In the domain of natural language processing, I have already learned about \"{concept_1}\", based on this, does it help for me to learn about \"{concept_2}\"?\n",
        "\n",
        "**Path**:\n",
        "{path}\n",
        "\"\"\""
      ],
      "metadata": {
        "id": "XmB5_DC2kwse"
      },
      "execution_count": null,
      "outputs": []
    },
    {
      "cell_type": "code",
      "source": [
        "results = []\n",
        "\n",
        "for i in tqdm(range(100)):\n",
        "    prompt = task_I_prompt.format(concept_1=concepts_1[i], concept_2=concepts_2[i], path=paths[i])\n",
        "    result = llm.predict(prompt)\n",
        "    results.append(result)"
      ],
      "metadata": {
        "colab": {
          "base_uri": "https://localhost:8080/"
        },
        "id": "WQ2G08O_Wnyd",
        "outputId": "433784ac-b2aa-4377-f759-a7c0f520024e"
      },
      "execution_count": null,
      "outputs": [
        {
          "metadata": {
            "tags": null
          },
          "name": "stderr",
          "output_type": "stream",
          "text": [
            "100%|██████████| 100/100 [00:54<00:00,  1.82it/s]\n"
          ]
        }
      ]
    },
    {
      "cell_type": "code",
      "source": [
        "results = pd.DataFrame(results)\n",
        "results.to_csv(\"task1.csv\")"
      ],
      "metadata": {
        "id": "GwA9qGTKiZAe"
      },
      "execution_count": null,
      "outputs": []
    },
    {
      "cell_type": "markdown",
      "source": [
        "***Task II***"
      ],
      "metadata": {
        "id": "7mGU7hBO0LFH"
      }
    },
    {
      "cell_type": "code",
      "source": [
        "file_path = \"T2_one_hop.tsv\"\n",
        "\n",
        "concepts = []\n",
        "\n",
        "pattern = r\"learn about\\s(.*?),\"\n",
        "\n",
        "with open(file_path, \"r\", encoding='utf-8') as file:\n",
        "    reader = csv.reader(file, delimiter=\"\\t\")\n",
        "\n",
        "    for row in reader:\n",
        "        sentence = row[0]\n",
        "\n",
        "        match = re.search(pattern, sentence)\n",
        "        if match:\n",
        "            concept = match.group(1)\n",
        "            concepts.append(concept)"
      ],
      "metadata": {
        "id": "U-sxawAO4IF3"
      },
      "execution_count": null,
      "outputs": []
    },
    {
      "cell_type": "code",
      "source": [
        "one_hop_prompt = \"\"\"\n",
        "In the domain of natural language processing, I want to learn about \"{concept}\", what concepts should I learn frist?\n",
        "Return all the paths.\n",
        "The length of the path cannot exceed 15.\n",
        "\"\"\""
      ],
      "metadata": {
        "id": "maCmh39_1wTq"
      },
      "execution_count": null,
      "outputs": []
    },
    {
      "cell_type": "code",
      "source": [
        "paths = []\n",
        "for concept in tqdm(concepts):\n",
        "    prompt = one_hop_prompt.format(concept=concept)\n",
        "    try:\n",
        "        result = chain.run(prompt)\n",
        "    except Exception as e:\n",
        "        print(f\"Error processing concept pair {concepts[i]}: {e}\")\n",
        "        result = []\n",
        "    paths.append(result)"
      ],
      "metadata": {
        "id": "NF_KPkjXa--x"
      },
      "execution_count": null,
      "outputs": []
    },
    {
      "cell_type": "code",
      "source": [
        "task_II_prompt = \"\"\"\n",
        "There is a knowledge graph that includes the relationships between concepts.\n",
        "Based on the question, the path between concepts has been returned.\n",
        "Return all unqiue concept names in the paths, but don't include the concept name in the question.\n",
        "Answer the question in the fllowing format (only return a list):\n",
        "[concept1, cpncept2, ...]\n",
        "\n",
        "**Question**:\n",
        "In the domain of natural language processing, I want to learn about \"{concept}\", what concepts should I learn frist?\n",
        "\n",
        "**Path**:\n",
        "{path}\n",
        "\"\"\""
      ],
      "metadata": {
        "id": "wvLRTmeRa_hu"
      },
      "execution_count": null,
      "outputs": []
    },
    {
      "cell_type": "code",
      "source": [
        "results = []\n",
        "for i in tqdm(range(100)):\n",
        "    prompt = task_II_prompt.format(concept=concepts[i], path=paths[i])\n",
        "    result = llm.predict(prompt)\n",
        "    results.append(result)"
      ],
      "metadata": {
        "id": "HKUTeptga_tq",
        "colab": {
          "base_uri": "https://localhost:8080/"
        },
        "outputId": "c1fbced9-8b68-4c2a-e26e-18ca198a83a7"
      },
      "execution_count": null,
      "outputs": [
        {
          "output_type": "stream",
          "name": "stderr",
          "text": [
            "100%|██████████| 100/100 [01:26<00:00,  1.16it/s]\n"
          ]
        }
      ]
    },
    {
      "cell_type": "code",
      "source": [
        "results = pd.DataFrame(results)\n",
        "results.to_csv(\"task2.csv\")"
      ],
      "metadata": {
        "id": "2edFk4kqbbF-"
      },
      "execution_count": null,
      "outputs": []
    },
    {
      "cell_type": "code",
      "source": [
        "#results = []\n",
        "#for concept in tqdm(concepts):\n",
        "    #prompt = one_hop_prompt.format(concept=concept)\n",
        "    #try:\n",
        "        #result = chain.run(prompt)\n",
        "        #prerequisites = [i[\"prerequisite.concept_name\"] for i in result]\n",
        "    #except Exception as e:\n",
        "        #print(f\"{concept}:{e}\")\n",
        "        #prerequisites = []\n",
        "    #results.append(prerequisites)"
      ],
      "metadata": {
        "id": "hwkXoJHTZgT8"
      },
      "execution_count": null,
      "outputs": []
    },
    {
      "cell_type": "markdown",
      "source": [
        "***Task III***"
      ],
      "metadata": {
        "id": "imIUSDEgpSxt"
      }
    },
    {
      "cell_type": "code",
      "source": [
        "file_path = \"T3_multi_hop.tsv\"\n",
        "\n",
        "concepts_1 = []\n",
        "concepts_2 = []\n",
        "\n",
        "pattern_1 = r\"know about\\s(.*?),\"\n",
        "pattern_2 = r\"learn about\\s(.*?),\"\n",
        "\n",
        "with open(file_path, \"r\", encoding='utf-8') as file:\n",
        "    reader = csv.reader(file, delimiter=\"\\t\")\n",
        "\n",
        "    for row in reader:\n",
        "        sentence = row[0]\n",
        "\n",
        "        match_1 = re.search(pattern_1, sentence)\n",
        "        match_2 = re.search(pattern_2, sentence)\n",
        "\n",
        "        if match_1 and match_2:\n",
        "            concept_1 = match_1.group(1)\n",
        "            concept_2 = match_2.group(1)\n",
        "            concepts_1.append(concept_1)\n",
        "            concepts_2.append(concept_2)"
      ],
      "metadata": {
        "id": "oU-27LtWpRbm"
      },
      "execution_count": null,
      "outputs": []
    },
    {
      "cell_type": "code",
      "source": [
        "multi_hop_prompt = \"\"\"\n",
        "In the domain of natural language processing, I have learned \"{concept_1}\", what is the path to learn \"{concept_2}\"?\n",
        "Return the shortest path.\n",
        "\"\"\""
      ],
      "metadata": {
        "id": "snKXnyv0FEKd"
      },
      "execution_count": null,
      "outputs": []
    },
    {
      "cell_type": "code",
      "source": [
        "paths = []\n",
        "for i in tqdm(range(100)):\n",
        "    prompt = multi_hop_prompt.format(concept_1=concepts_1[i], concept_2=concepts_2[i])\n",
        "    try:\n",
        "        result = chain.run(prompt)\n",
        "    except Exception as e:\n",
        "        print(f\"Error processing concept pair {concepts_1[i]}, {concepts_2[i]}: {e}\")\n",
        "        result = []\n",
        "    paths.append(result)"
      ],
      "metadata": {
        "id": "mZivvwQylsBY"
      },
      "execution_count": null,
      "outputs": []
    },
    {
      "cell_type": "code",
      "source": [
        "task_III_prompt = \"\"\"\n",
        "There is a knowledge graph that includes the relationships between concepts.\n",
        "Based on the question, the path between concepts has been returned.\n",
        "If the path is empty, then there is no relationship.\n",
        "Only return concept name and the total number of concepts in the list\n",
        "Answer the question in the fllowing format:\n",
        "[concept, cpncept, ..., number]\n",
        "\n",
        "**Question**:\n",
        "In the domain of natural language processing, I have learned \"{concept_1}\", what is the shortest path to learn \"{concept_2}\"?\n",
        "\n",
        "**Path**:\n",
        "{path}\n",
        "\"\"\""
      ],
      "metadata": {
        "id": "DLSO0A2mmFPf"
      },
      "execution_count": null,
      "outputs": []
    },
    {
      "cell_type": "code",
      "source": [
        "results = []\n",
        "\n",
        "for i in tqdm(range(100)):\n",
        "    prompt = task_III_prompt.format(concept_1=concepts_1[i], concept_2=concepts_2[i], path=paths[i])\n",
        "    result = llm.predict(prompt)\n",
        "    results.append(result)"
      ],
      "metadata": {
        "id": "SDyVeHifmFYz"
      },
      "execution_count": null,
      "outputs": []
    },
    {
      "cell_type": "code",
      "source": [
        "results = pd.DataFrame(results)\n",
        "results.to_csv(\"task3.csv\")"
      ],
      "metadata": {
        "id": "sWzCLo1Ov4_C"
      },
      "execution_count": null,
      "outputs": []
    },
    {
      "cell_type": "code",
      "source": [
        "#results = []\n",
        "#for i in tqdm(range(20)):\n",
        "    #prompt = multi_hop_prompt.format(concept_1=concepts_1[i], concept_2=concepts_2[i])\n",
        "    #try:\n",
        "        #result = chain.run(prompt)\n",
        "        #path_concepts = []\n",
        "        #for path in result[0][\"path\"]:\n",
        "            #if isinstance(path, dict) and \"concept_name\" in path:\n",
        "                #path_concepts.append(path[\"concept_name\"])\n",
        "    #except Exception as e:\n",
        "        #print(f\"Error processing concept pair {concepts_1[i]}, {concepts_2[i]}: {e}\")\n",
        "        #path_concepts = []\n",
        "    #results.append(path_concepts[1:-1])"
      ],
      "metadata": {
        "id": "3EWERNlGu6Ld"
      },
      "execution_count": null,
      "outputs": []
    },
    {
      "cell_type": "markdown",
      "source": [
        "***Task IV***"
      ],
      "metadata": {
        "id": "fMA50k5V9UDU"
      }
    },
    {
      "cell_type": "code",
      "source": [
        "task4 = pd.read_csv(\"T4_suggestion.tsv\", sep='\\t')"
      ],
      "metadata": {
        "id": "hFOAUDPjY7Q-"
      },
      "execution_count": null,
      "outputs": []
    },
    {
      "cell_type": "code",
      "source": [
        "prompt = \"\"\"\n",
        "Return all the concpets in the graph.\n",
        "Only return concept_name in the following format:\n",
        "[concept1, cpncept2, ...]\n",
        "\"\"\""
      ],
      "metadata": {
        "id": "oXfiVVhxlNOP"
      },
      "execution_count": null,
      "outputs": []
    },
    {
      "cell_type": "code",
      "source": [
        "concepts = chain.run(prompt)"
      ],
      "metadata": {
        "id": "V-FILjVslcMj"
      },
      "execution_count": null,
      "outputs": []
    },
    {
      "cell_type": "code",
      "source": [
        "task4_prompt = \"\"\"\n",
        "Title: {title}\n",
        "Description: {description}\n",
        "\n",
        "What NLP (Natural Language Processing) concepts do you think the above content includes?\n",
        "Here is the concept list you can refer to:\n",
        "Concepts: {concepts}\n",
        "\n",
        "Answer the question in the fllowing format, only return the concept name:\n",
        "[concept1, cpncept2, ...]\n",
        "\"\"\""
      ],
      "metadata": {
        "id": "Gcu-EvW8Y7LE"
      },
      "execution_count": null,
      "outputs": []
    },
    {
      "cell_type": "code",
      "source": [
        "results = []\n",
        "\n",
        "for i in tqdm(range(100)):\n",
        "    prompt = task4_prompt.format(title=task4[\"Title\"][i], description=task4[\"Description\"][i], concepts=concepts)\n",
        "    print(prompt)\n",
        "    result = llm.predict(prompt)\n",
        "    results.append(result)"
      ],
      "metadata": {
        "id": "zCtpj2TRY69A"
      },
      "execution_count": null,
      "outputs": []
    },
    {
      "cell_type": "code",
      "source": [
        "results = pd.DataFrame(results)\n",
        "results.to_csv(\"task4.csv\")"
      ],
      "metadata": {
        "id": "xykVbEAOlgQQ"
      },
      "execution_count": null,
      "outputs": []
    },
    {
      "cell_type": "markdown",
      "source": [
        "***Task V***"
      ],
      "metadata": {
        "id": "XptuY_qf9AN7"
      }
    },
    {
      "cell_type": "code",
      "source": [
        "file_path = \"T5_idea.tsv\"\n",
        "\n",
        "concepts = []\n",
        "\n",
        "\n",
        "with open(file_path, \"r\", encoding='utf-8') as file:\n",
        "    reader = csv.reader(file, delimiter=\"\\t\")\n",
        "    next(reader)\n",
        "    for row in reader:\n",
        "        content = row[0]\n",
        "        concepts.append(content.replace(';',','))"
      ],
      "metadata": {
        "id": "wL3JJiYHRAon"
      },
      "execution_count": null,
      "outputs": []
    },
    {
      "cell_type": "code",
      "source": [
        "task5_prompt = \"\"\"\n",
        "In the domain of Natural Language Processing, I already know about {concepts}.\n",
        "Return the prerequisite nodes of each concept, as a set.\n",
        "\"\"\""
      ],
      "metadata": {
        "id": "CAce_mXkWu0l"
      },
      "execution_count": null,
      "outputs": []
    },
    {
      "cell_type": "code",
      "source": [
        "paths = []\n",
        "query_concepts = []\n",
        "final_concepts = []\n",
        "for content in tqdm(concepts):\n",
        "\n",
        "    query_concepts.append(content.split(','))\n",
        "    prompt = task5_prompt.format(concepts=content)\n",
        "    print (prompt)\n",
        "    try:\n",
        "        result = chain.run(prompt)\n",
        "        print (result)\n",
        "\n",
        "\n",
        "    except Exception as e:\n",
        "        print(f\"Error\")\n",
        "        result = []\n",
        "    paths.append(result)"
      ],
      "metadata": {
        "id": "Sfy7jrDfUJ0G"
      },
      "execution_count": null,
      "outputs": []
    },
    {
      "cell_type": "code",
      "source": [
        "combined_prerequisites = []\n",
        "\n",
        "for item in paths:\n",
        "    prerequisites = []\n",
        "    for sub_item in item:\n",
        "        # Check for both possible keys due to inconsistency in key naming\n",
        "        if 'Prerequisites' in sub_item:\n",
        "            prerequisites.extend(sub_item['Prerequisites'])\n",
        "        elif 'prerequisites' in sub_item:\n",
        "            prerequisites.extend(sub_item['prerequisites'])\n",
        "    combined_prerequisites.append(prerequisites)"
      ],
      "metadata": {
        "id": "QCppM2iCWx1I"
      },
      "execution_count": null,
      "outputs": []
    },
    {
      "cell_type": "code",
      "source": [
        "with open('task5_prerequisites.txt', 'w') as f:\n",
        "    for item in combined_prerequisites:\n",
        "        f.write(\"%s\\n\" % item)\n",
        "\n",
        "with open('task5_concepts.txt', 'w') as f:\n",
        "    for item in query_concepts:\n",
        "        f.write(\"%s\\n\" % item)\n"
      ],
      "metadata": {
        "id": "StFsX5gNW0Ti"
      },
      "execution_count": null,
      "outputs": []
    },
    {
      "cell_type": "code",
      "source": [
        "ask_IV_prompt = \"\"\"\n",
        "I have learned following concepts:\n",
        "{que_concepts};\n",
        "moreover, I also know about the following concepts, which might be helpfull:\n",
        "{pre_concepts}.\n",
        "I am looking to apply these knowledge and undertake a novel and interesting project. Show me how each concept is applied to this project.\n",
        "Please provide me with a project I can work on, including title and description (max 200 words).\n",
        "Return in this format:\n",
        "Title: xxx ; Description: xxx\n",
        "\"\"\"\n",
        "\n",
        "\n",
        "results = []\n",
        "\n",
        "for content,qcontent in tqdm(zip(combined_prerequisites,query_concepts)):\n",
        "    try:\n",
        "      # prompt = task_IV_prompt.format(que_concepts=qcontent)\n",
        "      prompt = task_IV_prompt.format(que_concepts=qcontent,pre_concepts=content)\n",
        "      print (prompt)\n",
        "      result = llm.predict(prompt)\n",
        "      results.append(result.replace('\\n',' ').replace('\\t',' '))\n",
        "      print (result)\n",
        "    except:\n",
        "      print ('Error')\n",
        "      results.append('Error\\tError')\n"
      ],
      "metadata": {
        "id": "y7tnH6uRW5yH"
      },
      "execution_count": null,
      "outputs": []
    },
    {
      "cell_type": "code",
      "source": [
        "save_path = 'task5.tsv'\n",
        "with open(save_path,'w') as file:\n",
        "  for content in results:\n",
        "    file.write(content+'\\n')\n",
        "print ('Done!')"
      ],
      "metadata": {
        "id": "WC1WLVzGW7m8"
      },
      "execution_count": null,
      "outputs": []
    }
  ]
}